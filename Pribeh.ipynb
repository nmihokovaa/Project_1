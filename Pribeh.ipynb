{
  "nbformat": 4,
  "nbformat_minor": 0,
  "metadata": {
    "colab": {
      "provenance": [],
      "authorship_tag": "ABX9TyOkbahGtZYurHJpdypVok2R",
      "include_colab_link": true
    },
    "kernelspec": {
      "name": "python3",
      "display_name": "Python 3"
    },
    "language_info": {
      "name": "python"
    }
  },
  "cells": [
    {
      "cell_type": "markdown",
      "metadata": {
        "id": "view-in-github",
        "colab_type": "text"
      },
      "source": [
        "<a href=\"https://colab.research.google.com/github/nmihokovaa/Project_1/blob/main/Pribeh.ipynb\" target=\"_parent\"><img src=\"https://colab.research.google.com/assets/colab-badge.svg\" alt=\"Open In Colab\"/></a>"
      ]
    },
    {
      "cell_type": "markdown",
      "source": [
        "# Krátka hra\n",
        "Príbeh s dvoma možnosťami na konci. Po výbere z jednej možnosťi sa vytvorí daľšia čast príbehu. Len jedna možnosť je správna.\n",
        "\n",
        "**Postup**\n",
        "1.Napíš príbeh\n",
        "2.Zvol si kadial chceš ísť\n"
      ],
      "metadata": {
        "id": "yNIxIPgpALsA"
      }
    },
    {
      "cell_type": "code",
      "source": [
        "def start():\n",
        "    print(\"Si dobrodruh v temnom lese. Noc sa blíži a ty musíš nájsť úkryt.\")\n",
        "    print(\"1. Vydáš sa k opustenej chate.\")\n",
        "    print(\"2. Zostaneš v lese a postavíš si prístrešok.\")\n",
        "    choice = input(\"Vyber 1 alebo 2: \")\n",
        "\n",
        "    if choice == \"1\":\n",
        "        chatka()\n",
        "    elif choice == \"2\":\n",
        "        koniec(\"V noci ťa napadne divá zver. Zomrel si.\")\n",
        "    else:\n",
        "        print(\"Neplatná voľba.\")\n",
        "        start()\n",
        "\n",
        "def chatka():\n",
        "    print(\"\\nPrichádzaš k opustenej chate. Vo vnútri je ticho a chladno.\")\n",
        "    print(\"1. Rozhodneš sa preskúmať pivnicu.\")\n",
        "    print(\"2. Zapáliš oheň a oddýchneš si.\")\n",
        "    choice = input(\"Vyber 1 alebo 2: \")\n",
        "\n",
        "    if choice == \"1\":\n",
        "        koniec(\"V pivnici na teba číha pasca. Zomrel si.\")\n",
        "    elif choice == \"2\":\n",
        "        pokracovanie()\n",
        "    else:\n",
        "        print(\"Neplatná voľba.\")\n",
        "        chatka()\n",
        "\n",
        "def pokracovanie():\n",
        "    print(\"\\nOddýchol si si a ráno sa prebudíš svieži.\")\n",
        "    print(\"Pokračuješ vo svojej výprave a nachádzaš ukrytý poklad.\")\n",
        "    print(\"GRATULUJEM, VYHRAL SI!\")\n",
        "\n",
        "def koniec(reason):\n",
        "    print(\"\\n\" + reason)\n",
        "    print(\"KONIEC.\")\n",
        "\n",
        "# Spustenie príbehu\n",
        "start()\n"
      ],
      "metadata": {
        "colab": {
          "base_uri": "https://localhost:8080/"
        },
        "id": "QqpGfSLUB5G-",
        "outputId": "2f47fa6e-beb9-4381-d4d7-481fcb4f4292"
      },
      "execution_count": 2,
      "outputs": [
        {
          "output_type": "stream",
          "name": "stdout",
          "text": [
            "Si dobrodruh v temnom lese. Noc sa blíži a ty musíš nájsť úkryt.\n",
            "1. Vydáš sa k opustenej chate.\n",
            "2. Zostaneš v lese a postavíš si prístrešok.\n",
            "Vyber 1 alebo 2: 2\n",
            "\n",
            "V noci ťa napadne divá zver. Zomrel si.\n",
            "KONIEC.\n"
          ]
        }
      ]
    }
  ]
}