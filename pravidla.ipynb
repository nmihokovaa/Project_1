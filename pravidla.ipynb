{
  "nbformat": 4,
  "nbformat_minor": 0,
  "metadata": {
    "colab": {
      "provenance": [],
      "authorship_tag": "ABX9TyOkBkdyfxvcrfTETid6urmu",
      "include_colab_link": true
    },
    "kernelspec": {
      "name": "python3",
      "display_name": "Python 3"
    },
    "language_info": {
      "name": "python"
    }
  },
  "cells": [
    {
      "cell_type": "markdown",
      "metadata": {
        "id": "view-in-github",
        "colab_type": "text"
      },
      "source": [
        "<a href=\"https://colab.research.google.com/github/nmihokovaa/Project_1/blob/main/pravidla.ipynb\" target=\"_parent\"><img src=\"https://colab.research.google.com/assets/colab-badge.svg\" alt=\"Open In Colab\"/></a>"
      ]
    },
    {
      "cell_type": "markdown",
      "source": [
        "# 🎯 Hádačka čísel – Pravidlá hry\n",
        "**🧠 Cieľ hry:**\n",
        "Uhádnuť správne číslo, ktoré sa náhodne vygeneruje.\n",
        "\n",
        "\n",
        "**👥 Počet hráčov:**\n",
        "  2 hráči\n",
        "\n",
        "\n",
        "\n",
        "**🔢 Príprava:**\n",
        "Číslo sa vygeneruje v určenom rozsahu (napr. od 1 do 100).\n",
        "\n",
        "Rozsah čísla je oznámený vopred.\n",
        "\n",
        "\n",
        "**🕹️ Priebeh hry:**\n",
        "Hádači striedavo tipujú čísla.\n",
        "\n",
        "Po každom tipe hra napíše:\n",
        "\n",
        "„Vyššie!“ – ak hádané číslo je menšie ako správne.\n",
        "\n",
        "„Nižšie!“ – ak hádané číslo je väčšie ako správne.\n",
        "\n",
        "„Správne!“ – ak niekto uhádne číslo.\n",
        "\n",
        "**🏆 Víťaz:**\n",
        "Vyhráva ten hráč, ktorý ako prvý uhádne správne číslo.\n",
        "\n",
        "**🔁 Obmena:**\n",
        "\n",
        "\n",
        "Môžete si počítať body – napr. 1 bod za každé správne uhádnutie.\n",
        "\n"
      ],
      "metadata": {
        "id": "HEEACr8wN3RF"
      }
    }
  ]
}